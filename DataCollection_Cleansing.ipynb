{
 "cells": [
  {
   "cell_type": "markdown",
   "metadata": {},
   "source": [
    "# Data Collection & Cleansing"
   ]
  },
  {
   "cell_type": "markdown",
   "metadata": {},
   "source": [
    "# Dependencies"
   ]
  },
  {
   "cell_type": "code",
   "execution_count": 2,
   "metadata": {},
   "outputs": [],
   "source": [
    "import pandas as pd\n",
    "import matplotlib.pyplot as plt\n",
    "import requests\n",
    "from pprint import pprint\n",
    "from config import api_key\n",
    "import numpy as np\n",
    "import os\n",
    "import shutil"
   ]
  },
  {
   "cell_type": "markdown",
   "metadata": {},
   "source": [
    "# Data Collection"
   ]
  },
  {
   "cell_type": "code",
   "execution_count": 3,
   "metadata": {},
   "outputs": [
    {
     "data": {
      "text/plain": [
       "'https://api.data.gov/ed/collegescorecard/v1/schools?api_key=cwln6WtCqQN2nOVYktDIE6683aUseu0tPQ4JmJeZ&fields='"
      ]
     },
     "execution_count": 3,
     "metadata": {},
     "output_type": "execute_result"
    }
   ],
   "source": [
    "#The College Scorecard API is a GET API that lives at http://api.data.gov/ed/collegescorecard/\n",
    "#The endpoint for querying all data is /v1/schools\n",
    "base_url = \"https://api.data.gov/ed/collegescorecard/v1/schools?\"\n",
    "base_url = f\"{base_url}api_key={api_key}&fields=\"\n",
    "base_url"
   ]
  },
  {
   "cell_type": "code",
   "execution_count": 4,
   "metadata": {},
   "outputs": [
    {
     "data": {
      "text/plain": [
       "'&school.degrees_awarded.predominant=3&school.institutional_characteristics.level=1&school.operating=1'"
      ]
     },
     "execution_count": 4,
     "metadata": {},
     "output_type": "execute_result"
    }
   ],
   "source": [
    "# List of all the search conditions\n",
    "parameters = [\"&school.degrees_awarded.predominant=3\",\n",
    "             \"&school.institutional_characteristics.level=1\",\n",
    "             \"&school.operating=1\"\n",
    "             ]\n",
    "\n",
    "# Appending all the conditions values to construct the conditionss_url\n",
    "parameters_url = \"\"\n",
    "for parameter in parameters:\n",
    "    parameters_url = parameters_url + parameter\n",
    "parameters_url"
   ]
  },
  {
   "cell_type": "code",
   "execution_count": 5,
   "metadata": {},
   "outputs": [
    {
     "data": {
      "text/plain": [
       "'school.name,id,school.state,school.ownership,school.ft_faculty_rate,school.faculty_salary,latest.student.size,latest.student.enrollment.all,latest.student.demographics.men,latest.student.demographics.women,latest.student.retention_rate.four_year.full_time,latest.cost.attendance.academic_year,latest.completion.completion_rate_4yr_150nt,latest.admissions.admission_rate.overall,latest.admissions.sat_scores.average.overall,latest.admissions.sat_scores.75th_percentile.math,latest.admissions.sat_scores.75th_percentile.critical_reading,latest.admissions.sat_scores.75th_percentile.writing,latest.earnings.6_yrs_after_entry.working_not_enrolled.mean_earnings,latest.earnings.6_yrs_after_entry.mean_earnings.male_students,latest.earnings.6_yrs_after_entry.mean_earnings.female_students,latest.earnings.6_yrs_after_entry.working_not_enrolled.std_dev,latest.earnings.6_yrs_after_entry.percent_greater_than_25000,latest.earnings.6_yrs_after_entry.working_not_enrolled.income.lowest_tercile,latest.earnings.6_yrs_after_entry.working_not_enrolled.income.middle_tercile,latest.earnings.6_yrs_after_entry.working_not_enrolled.income.highest_tercile,latest.earnings.6_yrs_after_entry.mean_earnings.lowest_tercile,latest.earnings.6_yrs_after_entry.mean_earnings.middle_tercile,latest.earnings.6_yrs_after_entry.mean_earnings.highest_tercile,latest.earnings.10_yrs_after_entry.working_not_enrolled.mean_earnings,latest.earnings.10_yrs_after_entry.mean_earnings.male_students,latest.earnings.10_yrs_after_entry.mean_earnings.female_students,latest.earnings.10_yrs_after_entry.working_not_enrolled.std_dev,latest.earnings.10_yrs_after_entry.percent_greater_than_25000,latest.earnings.10_yrs_after_entry.working_not_enrolled.income.lowest_tercile,latest.earnings.10_yrs_after_entry.working_not_enrolled.income.middle_tercile,latest.earnings.10_yrs_after_entry.working_not_enrolled.income.highest_tercile,latest.earnings.10_yrs_after_entry.mean_earnings.lowest_tercile,latest.earnings.10_yrs_after_entry.mean_earnings.middle_tercile,latest.earnings.10_yrs_after_entry.mean_earnings.highest_tercile'"
      ]
     },
     "execution_count": 5,
     "metadata": {},
     "output_type": "execute_result"
    }
   ],
   "source": [
    "# Dictionary all the desired fields\n",
    "year = \"latest\"\n",
    "fields = {\n",
    "          # School Category\n",
    "          \"School Name\": \"school.name\",\n",
    "          \"School ID\": \"id\",\n",
    "          \"School State\": \"school.state\",\n",
    "          \"School Ownership\": \"school.ownership\",\n",
    "          \"Full-time Faculty Rate (%)\": \"school.ft_faculty_rate\",\n",
    "          \"Faculty's average salary per month\": \"school.faculty_salary\",\n",
    "          # Student Category\n",
    "          \"Student Enrollment Size\": year + \".student.size\",\n",
    "          \"Student Enrollment All\": year + \".student.enrollment.all\",\n",
    "          \"Male Students (%)\": year + \".student.demographics.men\",\n",
    "          \"Female Students (%)\": year + \".student.demographics.women\",\n",
    "          \"Retention Rate 4Yr (%)\": year + \".student.retention_rate.four_year.full_time\",\n",
    "          #Cost Category\n",
    "          \"Attendance Cost per Academic Year\": year + \".cost.attendance.academic_year\",\n",
    "          # Completion Category\n",
    "          \"150% Completion Rate at 4Yr (%)\": year + \".completion.completion_rate_4yr_150nt\",\n",
    "          # Admissions Category \n",
    "          \"Admission Rate (%)\": year + \".admissions.admission_rate.overall\",\n",
    "          \"SAT Average Overall\": year + \".admissions.sat_scores.average.overall\",\n",
    "          \"SAT 75th Percentile Critical Math\": year + \".admissions.sat_scores.75th_percentile.math\",\n",
    "          \"SAT 75th Percentile Critical Reading\": year + \".admissions.sat_scores.75th_percentile.critical_reading\",\n",
    "          \"SAT 75th Percentile Critical Writing\": year + \".admissions.sat_scores.75th_percentile.writing\",\n",
    "          ## Earnings Category\n",
    "          # 6 Years after Enrollment:\n",
    "          \"Mean Earnings (6 Yrs after Entry)\": year + \".earnings.6_yrs_after_entry.working_not_enrolled.mean_earnings\",\n",
    "          \"Mean Male Earnings (6 Yrs after Entry)\": year + \".earnings.6_yrs_after_entry.mean_earnings.male_students\",\n",
    "          \"Mean Female Earnings (6 Yrs after Entry)\": year + \".earnings.6_yrs_after_entry.mean_earnings.female_students\",\n",
    "          \"Std. Deviation Earning (6 Yrs after Entry)\": year + \".earnings.6_yrs_after_entry.working_not_enrolled.std_dev\",\n",
    "          \"Percent of Students Earning >$25K (6 Yrs after Entry)\": year + \".earnings.6_yrs_after_entry.percent_greater_than_25000\",\n",
    "          \"Low Income Students (6 Yrs after Entry)\": year + \".earnings.6_yrs_after_entry.working_not_enrolled.income.lowest_tercile\",\n",
    "          \"Medium Income Students (6 Yrs after Entry)\": year + \".earnings.6_yrs_after_entry.working_not_enrolled.income.middle_tercile\",\n",
    "          \"High Income Students (6 Yrs after Entry)\": year + \".earnings.6_yrs_after_entry.working_not_enrolled.income.highest_tercile\",\n",
    "          \"Mean Earnings Low (6 Yrs after Entry)\": year + \".earnings.6_yrs_after_entry.mean_earnings.lowest_tercile\",\n",
    "          \"Mean Earnings Medium (6 Yrs after Entry)\": year + \".earnings.6_yrs_after_entry.mean_earnings.middle_tercile\",\n",
    "          \"Mean Earnings High (6 Yrs after Entry)\": year + \".earnings.6_yrs_after_entry.mean_earnings.highest_tercile\",\n",
    "          # 10 Years after Enrollment:\n",
    "          \"Mean Earnings (10 Yrs after Entry)\": year + \".earnings.10_yrs_after_entry.working_not_enrolled.mean_earnings\",\n",
    "          \"Mean Male Earnings (10 Yrs after Entry)\": year + \".earnings.10_yrs_after_entry.mean_earnings.male_students\",\n",
    "          \"Mean Female Earnings (10 Yrs after Entry)\": year + \".earnings.10_yrs_after_entry.mean_earnings.female_students\",\n",
    "          \"Std. Deviation Earning (10 Yrs after Entry)\": year + \".earnings.10_yrs_after_entry.working_not_enrolled.std_dev\",\n",
    "          \"Percent of Students Earning >$25K (10 Yrs after Entry)\": year + \".earnings.10_yrs_after_entry.percent_greater_than_25000\",\n",
    "          \"Low Income Students (10 Yrs after Entry)\": year + \".earnings.10_yrs_after_entry.working_not_enrolled.income.lowest_tercile\",\n",
    "          \"Medium Income Students (10 Yrs after Entry)\": year + \".earnings.10_yrs_after_entry.working_not_enrolled.income.middle_tercile\",\n",
    "          \"High Income Students (10 Yrs after Entry)\": year + \".earnings.10_yrs_after_entry.working_not_enrolled.income.highest_tercile\",\n",
    "          \"Mean Earnings Low (10 Yrs after Entry)\": year + \".earnings.10_yrs_after_entry.mean_earnings.lowest_tercile\",\n",
    "          \"Mean Earnings Medium (10 Yrs after Entry)\": year + \".earnings.10_yrs_after_entry.mean_earnings.middle_tercile\",\n",
    "          \"Mean Earnings High (10 Yrs after Entry)\": year + \".earnings.10_yrs_after_entry.mean_earnings.highest_tercile\"\n",
    "         }\n",
    "\n",
    "# Appending all the fields values to construct the fields_url\n",
    "fields_url = \"\"\n",
    "for key, val in fields.items():\n",
    "    fields_url = fields_url + val + \",\"\n",
    "\n",
    "# To remove the extra \",\" at the end of fields_url\n",
    "fields_url = fields_url[:-1]\n",
    "fields_url"
   ]
  },
  {
   "cell_type": "code",
   "execution_count": 6,
   "metadata": {},
   "outputs": [
    {
     "data": {
      "text/plain": [
       "21"
      ]
     },
     "execution_count": 6,
     "metadata": {},
     "output_type": "execute_result"
    }
   ],
   "source": [
    "# Getting number of records returned to set the max page number\n",
    "query_url = f\"{base_url}{fields_url}{parameters_url}&page=0\"\n",
    "response = requests.get(query_url).json()\n",
    "max_page_num = response[\"metadata\"][\"total\"]//100 + 1\n",
    "max_page_num"
   ]
  },
  {
   "cell_type": "code",
   "execution_count": 7,
   "metadata": {},
   "outputs": [],
   "source": [
    "# Constructing the dataframe from the API request response\n",
    "\n",
    "#Initializing variables\n",
    "school_df = []\n",
    "per_page = 100\n",
    "\n",
    "for page_num in range(0,max_page_num):\n",
    "    query_url = f\"{base_url}{fields_url}{parameters_url}&page={page_num}&_per_page={per_page}\"\n",
    "    response = requests.get(query_url).json()\n",
    "    \n",
    "    for x in range(len(response[\"results\"])):\n",
    "        result_row = {}\n",
    "        \n",
    "        for key, val in fields.items(): \n",
    "            try:\n",
    "                result_row[key] = response[\"results\"][x][val]\n",
    "            except KeyError:\n",
    "                print(f\"{key} key not found\")\n",
    "                \n",
    "        school_df.append(result_row)\n",
    "\n",
    "        \n",
    "school_df = pd.DataFrame(school_df)"
   ]
  },
  {
   "cell_type": "markdown",
   "metadata": {},
   "source": [
    "# Data Cleansing"
   ]
  },
  {
   "cell_type": "code",
   "execution_count": 8,
   "metadata": {},
   "outputs": [],
   "source": [
    "# Updating School Ownership 1: \"Public\", 2: \"Private NonProfit\", 3: \"Private ForProfit\"}\n",
    "school_df.loc[school_df[\"School Ownership\"] == 1, \"School Ownership\"] = \"Public\"\n",
    "school_df.loc[school_df[\"School Ownership\"] == 2, \"School Ownership\"] = \"Private NonProfit\"\n",
    "school_df.loc[school_df[\"School Ownership\"] == 3, \"School Ownership\"] = \"Private ForProfit\""
   ]
  },
  {
   "cell_type": "code",
   "execution_count": 9,
   "metadata": {},
   "outputs": [],
   "source": [
    "# Formatting the Percentage columns\n",
    "school_df[\"Admission Rate (%)\"] = school_df[\"Admission Rate (%)\"] * 100\n",
    "school_df[\"150% Completion Rate at 4Yr (%)\"] = school_df[\"150% Completion Rate at 4Yr (%)\"] * 100\n",
    "school_df[\"Retention Rate 4Yr (%)\"] = school_df[\"Retention Rate 4Yr (%)\"] * 100\n",
    "school_df[\"Full-time Faculty Rate (%)\"] = school_df[\"Full-time Faculty Rate (%)\"] * 100\n",
    "school_df[\"Percent of Students Earning >$25K (6 Yrs after Entry)\"] = school_df[\"Percent of Students Earning >$25K (6 Yrs after Entry)\"] * 100\n",
    "school_df[\"Percent of Students Earning >$25K (10 Yrs after Entry)\"] = school_df[\"Percent of Students Earning >$25K (10 Yrs after Entry)\"] * 100\n",
    "school_df[\"Male Students (%)\"] = school_df[\"Male Students (%)\"] * 100\n",
    "school_df[\"Female Students (%)\"] = school_df[\"Female Students (%)\"] * 100\n",
    "\n",
    "pd.options.display.float_format = '{:.2f}'.format"
   ]
  },
  {
   "cell_type": "code",
   "execution_count": null,
   "metadata": {},
   "outputs": [],
   "source": [
    "# Creating Directories & Saving Dataframe in CSV file\n",
    "shutil.rmtree(\"Resources\", ignore_errors = True)\n",
    "shutil.rmtree(\"Plots\", ignore_errors = True)\n",
    "\n",
    "path_plot_ownadmission = os.path.join(\"Resources\", \"Plots\", \"Ownership_Admission\")\n",
    "os.makedirs(path_plot_ownadmission, exist_ok=True)\n",
    "\n",
    "path_plot_select = os.path.join(\"Resources\", \"Plots\", \"Selectiveness\")\n",
    "os.makedirs(path_plot_select, exist_ok=True)\n",
    "\n",
    "path_plot_compretention = os.path.join(\"Resources\", \"Plots\", \"Completion_Retention\")\n",
    "os.makedirs(path_plot_compretention, exist_ok=True)\n",
    "\n",
    "path_plot_faculty = os.path.join(\"Resources\", \"Plots\", \"Faculty\")\n",
    "os.makedirs(path_plot_faculty, exist_ok=True)\n",
    "\n",
    "path_csv_ownadmission = os.path.join(\"Resources\", \"CSV\", \"Ownership_Admission\")\n",
    "os.makedirs(path_csv_ownadmission, exist_ok=True)\n",
    "\n",
    "path_csv_select = os.path.join(\"Resources\", \"CSV\", \"Selectiveness\")\n",
    "os.makedirs(path_csv_select, exist_ok=True)\n",
    "\n",
    "path_csv_compretention = os.path.join(\"Resources\", \"CSV\", \"Completion_Retention\")\n",
    "os.makedirs(path_csv_compretention, exist_ok=True)\n",
    "\n",
    "path_csv_faculty = os.path.join(\"Resources\", \"CSV\", \"Faculty\")\n",
    "os.makedirs(path_csv_faculty, exist_ok=True)\n",
    "\n",
    "path_csv_general = os.path.join(\"Resources\", \"CSV\", \"General\")\n",
    "os.makedirs(path_csv_general, exist_ok=True)\n",
    "\n",
    "# Saving Dataframe in CSV file\n",
    "\n",
    "resource1 = \"Schools_DF.csv\"\n",
    "school_df.to_csv(os.path.join(path_csv_general, resource1), index=False)"
   ]
  },
  {
   "cell_type": "code",
   "execution_count": null,
   "metadata": {},
   "outputs": [],
   "source": []
  }
 ],
 "metadata": {
  "kernelspec": {
   "display_name": "Python 3",
   "language": "python",
   "name": "python3"
  },
  "language_info": {
   "codemirror_mode": {
    "name": "ipython",
    "version": 3
   },
   "file_extension": ".py",
   "mimetype": "text/x-python",
   "name": "python",
   "nbconvert_exporter": "python",
   "pygments_lexer": "ipython3",
   "version": "3.6.7"
  }
 },
 "nbformat": 4,
 "nbformat_minor": 2
}
