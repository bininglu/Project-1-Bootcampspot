{
 "cells": [
  {
   "cell_type": "code",
   "execution_count": 1,
   "metadata": {},
   "outputs": [],
   "source": [
    "import pandas as pd\n",
    "import matplotlib.pyplot as plt\n",
    "import requests\n",
    "from pprint import pprint\n",
    "\n",
    "from config import api_key\n"
   ]
  },
  {
   "cell_type": "code",
   "execution_count": 2,
   "metadata": {
    "collapsed": true
   },
   "outputs": [
    {
     "data": {
      "text/plain": [
       "'https://api.data.gov/ed/collegescorecard/v1/schools?api_key=qU5kxpGGsRBz1SbYzlvidBgnbKC1yQ0lX30EU6Mo&fields='"
      ]
     },
     "execution_count": 2,
     "metadata": {},
     "output_type": "execute_result"
    }
   ],
   "source": [
    "#The College Scorecard API is a GET API that lives at http://api.data.gov/ed/collegescorecard/\n",
    "#The endpoint for querying all data is /v1/schools\n",
    "base_url = \"https://api.data.gov/ed/collegescorecard/v1/schools?\"\n",
    "base_url = f\"{base_url}api_key={api_key}&fields=\"\n",
    "base_url"
   ]
  },
  {
   "cell_type": "code",
   "execution_count": 3,
   "metadata": {},
   "outputs": [
    {
     "data": {
      "text/plain": [
       "'&school.degrees_awarded.predominant=3&school.institutional_characteristics.level=1&school.operating=1'"
      ]
     },
     "execution_count": 3,
     "metadata": {},
     "output_type": "execute_result"
    }
   ],
   "source": [
    "# List of all the search conditions\n",
    "parameters = [\"&school.degrees_awarded.predominant=3\",\n",
    "             \"&school.institutional_characteristics.level=1\",\n",
    "             \"&school.operating=1\"\n",
    "             ]\n",
    "\n",
    "# Appending all the conditions values to construct the conditionss_url\n",
    "parameters_url = \"\"\n",
    "for parameter in parameters:\n",
    "    parameters_url = parameters_url + parameter\n",
    "parameters_url"
   ]
  },
  {
   "cell_type": "code",
   "execution_count": 4,
   "metadata": {},
   "outputs": [
    {
     "data": {
      "text/plain": [
       "'school.name,id,school.state,school.ownership,school.ft_faculty_rate,school.faculty_salary,latest.student.size,latest.student.enrollment.all,latest.student.demographics.men,latest.student.demographics.women,latest.student.retention_rate.four_year.full_time,latest.completion.completion_rate_4yr_150nt,latest.admissions.admission_rate.overall,latest.admissions.sat_scores.average.overall,latest.admissions.sat_scores.75th_percentile.math,latest.admissions.sat_scores.75th_percentile.critical_reading,latest.admissions.sat_scores.75th_percentile.writing,latest.earnings.6_yrs_after_entry.working_not_enrolled.mean_earnings,latest.earnings.6_yrs_after_entry.mean_earnings.male_students,latest.earnings.6_yrs_after_entry.mean_earnings.female_students,latest.earnings.6_yrs_after_entry.working_not_enrolled.std_dev,latest.earnings.6_yrs_after_entry.percent_greater_than_25000,latest.earnings.6_yrs_after_entry.working_not_enrolled.income.lowest_tercile,latest.earnings.6_yrs_after_entry.working_not_enrolled.income.middle_tercile,latest.earnings.6_yrs_after_entry.working_not_enrolled.income.highest_tercile,latest.earnings.6_yrs_after_entry.mean_earnings.lowest_tercile,latest.earnings.6_yrs_after_entry.mean_earnings.middle_tercile,latest.earnings.6_yrs_after_entry.mean_earnings.highest_tercile,latest.earnings.10_yrs_after_entry.working_not_enrolled.mean_earnings,latest.earnings.10_yrs_after_entry.mean_earnings.male_students,latest.earnings.10_yrs_after_entry.mean_earnings.female_students,latest.earnings.10_yrs_after_entry.working_not_enrolled.std_dev,latest.earnings.10_yrs_after_entry.percent_greater_than_25000,latest.earnings.10_yrs_after_entry.working_not_enrolled.income.lowest_tercile,latest.earnings.10_yrs_after_entry.working_not_enrolled.income.middle_tercile,latest.earnings.10_yrs_after_entry.working_not_enrolled.income.highest_tercile,latest.earnings.10_yrs_after_entry.mean_earnings.lowest_tercile,latest.earnings.10_yrs_after_entry.mean_earnings.middle_tercile,latest.earnings.10_yrs_after_entry.mean_earnings.highest_tercile'"
      ]
     },
     "execution_count": 4,
     "metadata": {},
     "output_type": "execute_result"
    }
   ],
   "source": [
    "# Dictionary all the desired fields\n",
    "year = \"latest\"\n",
    "fields = {\n",
    "          # School Category\n",
    "          \"School Name\": \"school.name\",\n",
    "          \"School ID\": \"id\",\n",
    "          \"School State\": \"school.state\",\n",
    "          \"School Ownership\": \"school.ownership\",\n",
    "          \"Full-time Faculty Rate (%)\": \"school.ft_faculty_rate\",\n",
    "          \"Faculty's average salary per month\": \"school.faculty_salary\",\n",
    "          # Student Category\n",
    "          \"Student Enrollment Size\": year + \".student.size\",\n",
    "          \"Student Enrollment All\": year + \".student.enrollment.all\",\n",
    "          \"Male Students (%)\": year + \".student.demographics.men\",\n",
    "          \"Female Students (%)\": year + \".student.demographics.women\",\n",
    "          \"Retention Rate 4Yr (%)\": year + \".student.retention_rate.four_year.full_time\",\n",
    "          # Completion Category\n",
    "          \"150% Completion Rate at 4Yr (%)\": year + \".completion.completion_rate_4yr_150nt\",\n",
    "          # Admissions Category \n",
    "          \"Admission Rate (%)\": year + \".admissions.admission_rate.overall\",\n",
    "          \"SAT Average Overall\": year + \".admissions.sat_scores.average.overall\",\n",
    "          \"SAT 75th Percentile Critical Math\": year + \".admissions.sat_scores.75th_percentile.math\",\n",
    "          \"SAT 75th Percentile Critical Reading\": year + \".admissions.sat_scores.75th_percentile.critical_reading\",\n",
    "          \"SAT 75th Percentile Critical Writing\": year + \".admissions.sat_scores.75th_percentile.writing\",\n",
    "          ## Earnings Category\n",
    "          # 6 Years after Enrollment:\n",
    "          \"Mean Earnings (6 Yrs after Entry)\": year + \".earnings.6_yrs_after_entry.working_not_enrolled.mean_earnings\",\n",
    "          \"Mean Male Earnings (6 Yrs after Entry)\": year + \".earnings.6_yrs_after_entry.mean_earnings.male_students\",\n",
    "          \"Mean Female Earnings (6 Yrs after Entry)\": year + \".earnings.6_yrs_after_entry.mean_earnings.female_students\",\n",
    "          \"Std. Deviation Earning (6 Yrs after Entry)\": year + \".earnings.6_yrs_after_entry.working_not_enrolled.std_dev\",\n",
    "          \"Percent of Students Earning >$25K (6 Yrs after Entry)\": year + \".earnings.6_yrs_after_entry.percent_greater_than_25000\",\n",
    "          \"Low Income Students (6 Yrs after Entry)\": year + \".earnings.6_yrs_after_entry.working_not_enrolled.income.lowest_tercile\",\n",
    "          \"Medium Income Students (6 Yrs after Entry)\": year + \".earnings.6_yrs_after_entry.working_not_enrolled.income.middle_tercile\",\n",
    "          \"High Income Students (6 Yrs after Entry)\": year + \".earnings.6_yrs_after_entry.working_not_enrolled.income.highest_tercile\",\n",
    "          \"Mean Earnings Low (6 Yrs after Entry)\": year + \".earnings.6_yrs_after_entry.mean_earnings.lowest_tercile\",\n",
    "          \"Mean Earnings Medium (6 Yrs after Entry)\": year + \".earnings.6_yrs_after_entry.mean_earnings.middle_tercile\",\n",
    "          \"Mean Earnings High (6 Yrs after Entry)\": year + \".earnings.6_yrs_after_entry.mean_earnings.highest_tercile\",\n",
    "          # 10 Years after Enrollment:\n",
    "          \"Mean Earnings (10 Yrs after Entry)\": year + \".earnings.10_yrs_after_entry.working_not_enrolled.mean_earnings\",\n",
    "          \"Mean Male Earnings (10 Yrs after Entry)\": year + \".earnings.10_yrs_after_entry.mean_earnings.male_students\",\n",
    "          \"Mean Female Earnings (10 Yrs after Entry)\": year + \".earnings.10_yrs_after_entry.mean_earnings.female_students\",\n",
    "          \"Std. Deviation Earning (10 Yrs after Entry)\": year + \".earnings.10_yrs_after_entry.working_not_enrolled.std_dev\",\n",
    "          \"Percent of Students Earning >$25K (10 Yrs after Entry)\": year + \".earnings.10_yrs_after_entry.percent_greater_than_25000\",\n",
    "          \"Low Income Students (10 Yrs after Entry)\": year + \".earnings.10_yrs_after_entry.working_not_enrolled.income.lowest_tercile\",\n",
    "          \"Medium Income Students (10 Yrs after Entry)\": year + \".earnings.10_yrs_after_entry.working_not_enrolled.income.middle_tercile\",\n",
    "          \"High Income Students (10 Yrs after Entry)\": year + \".earnings.10_yrs_after_entry.working_not_enrolled.income.highest_tercile\",\n",
    "          \"Mean Earnings Low (10 Yrs after Entry)\": year + \".earnings.10_yrs_after_entry.mean_earnings.lowest_tercile\",\n",
    "          \"Mean Earnings Medium (10 Yrs after Entry)\": year + \".earnings.10_yrs_after_entry.mean_earnings.middle_tercile\",\n",
    "          \"Mean Earnings High (10 Yrs after Entry)\": year + \".earnings.10_yrs_after_entry.mean_earnings.highest_tercile\"\n",
    "         }\n",
    "\n",
    "# Appending all the fields values to construct the fields_url\n",
    "fields_url = \"\"\n",
    "for key, val in fields.items():\n",
    "    fields_url = fields_url + val + \",\"\n",
    "\n",
    "# To remove the extra \",\" at the end of fields_url\n",
    "fields_url = fields_url[:-1]\n",
    "fields_url"
   ]
  },
  {
   "cell_type": "code",
   "execution_count": 5,
   "metadata": {},
   "outputs": [
    {
     "data": {
      "text/plain": [
       "21"
      ]
     },
     "execution_count": 5,
     "metadata": {},
     "output_type": "execute_result"
    }
   ],
   "source": [
    "# Getting number of records returned to set the max page number\n",
    "query_url = f\"{base_url}{fields_url}{parameters_url}&page=0\"\n",
    "response = requests.get(query_url).json()\n",
    "max_page_num = response[\"metadata\"][\"total\"]//100 + 1\n",
    "max_page_num"
   ]
  },
  {
   "cell_type": "code",
   "execution_count": 6,
   "metadata": {
    "scrolled": true
   },
   "outputs": [],
   "source": [
    "# Constructing the dataframe from the API request response\n",
    "\n",
    "#Initializing variables\n",
    "school_df = []\n",
    "per_page = 100\n",
    "\n",
    "for page_num in range(0,max_page_num):\n",
    "    query_url = f\"{base_url}{fields_url}{parameters_url}&page={page_num}&_per_page={per_page}\"\n",
    "    response = requests.get(query_url).json()\n",
    "    \n",
    "    for x in range(len(response[\"results\"])):\n",
    "        result_row = {}\n",
    "        \n",
    "        for key, val in fields.items(): \n",
    "            try:\n",
    "                result_row[key] = response[\"results\"][x][val]\n",
    "            except KeyError:\n",
    "                print(f\"{key} key not found\")\n",
    "                \n",
    "        school_df.append(result_row)\n",
    "\n",
    "        \n",
    "school_df = pd.DataFrame(school_df)"
   ]
  },
  {
   "cell_type": "code",
   "execution_count": 7,
   "metadata": {},
   "outputs": [],
   "source": [
    "# Updating School Ownership 1: \"Public\", 2: \"Private NonProfit\", 3: \"Private ForProfit\"}\n",
    "school_df.loc[school_df[\"School Ownership\"] == 1, \"School Ownership\"] = \"Public\"\n",
    "school_df.loc[school_df[\"School Ownership\"] == 2, \"School Ownership\"] = \"Private NonProfit\"\n",
    "school_df.loc[school_df[\"School Ownership\"] == 3, \"School Ownership\"] = \"Private ForProfit\"\n"
   ]
  },
  {
   "cell_type": "code",
   "execution_count": 8,
   "metadata": {},
   "outputs": [
    {
     "data": {
      "text/plain": [
       "Private NonProfit    1239\n",
       "Public                593\n",
       "Private ForProfit     217\n",
       "Name: School Ownership, dtype: int64"
      ]
     },
     "execution_count": 8,
     "metadata": {},
     "output_type": "execute_result"
    }
   ],
   "source": [
    "school_df[\"School Ownership\"].value_counts()"
   ]
  },
  {
   "cell_type": "code",
   "execution_count": 9,
   "metadata": {},
   "outputs": [],
   "source": [
    "# Formatting the Percentage columns\n",
    "school_df[\"Admission Rate (%)\"] = school_df[\"Admission Rate (%)\"] * 100\n",
    "school_df[\"150% Completion Rate at 4Yr (%)\"] = school_df[\"150% Completion Rate at 4Yr (%)\"] * 100\n",
    "school_df[\"Retention Rate 4Yr (%)\"] = school_df[\"Retention Rate 4Yr (%)\"] * 100\n",
    "school_df[\"Full-time Faculty Rate (%)\"] = school_df[\"Full-time Faculty Rate (%)\"] * 100\n",
    "school_df[\"Percent of Students Earning >$25K (6 Yrs after Entry)\"] = school_df[\"Percent of Students Earning >$25K (6 Yrs after Entry)\"] * 100\n",
    "school_df[\"Percent of Students Earning >$25K (10 Yrs after Entry)\"] = school_df[\"Percent of Students Earning >$25K (10 Yrs after Entry)\"] * 100\n",
    "school_df[\"Male Students (%)\"] = school_df[\"Male Students (%)\"] * 100\n",
    "school_df[\"Female Students (%)\"] = school_df[\"Female Students (%)\"] * 100\n",
    "\n",
    "pd.options.display.float_format = '{:.2f}'.format\n"
   ]
  },
  {
   "cell_type": "code",
   "execution_count": 10,
   "metadata": {},
   "outputs": [
    {
     "data": {
      "text/html": [
       "<div>\n",
       "<style scoped>\n",
       "    .dataframe tbody tr th:only-of-type {\n",
       "        vertical-align: middle;\n",
       "    }\n",
       "\n",
       "    .dataframe tbody tr th {\n",
       "        vertical-align: top;\n",
       "    }\n",
       "\n",
       "    .dataframe thead th {\n",
       "        text-align: right;\n",
       "    }\n",
       "</style>\n",
       "<table border=\"1\" class=\"dataframe\">\n",
       "  <thead>\n",
       "    <tr style=\"text-align: right;\">\n",
       "      <th></th>\n",
       "      <th>150% Completion Rate at 4Yr (%)</th>\n",
       "      <th>Admission Rate (%)</th>\n",
       "      <th>Faculty's average salary per month</th>\n",
       "      <th>Female Students (%)</th>\n",
       "      <th>Full-time Faculty Rate (%)</th>\n",
       "      <th>High Income Students (10 Yrs after Entry)</th>\n",
       "      <th>High Income Students (6 Yrs after Entry)</th>\n",
       "      <th>Low Income Students (10 Yrs after Entry)</th>\n",
       "      <th>Low Income Students (6 Yrs after Entry)</th>\n",
       "      <th>Male Students (%)</th>\n",
       "      <th>...</th>\n",
       "      <th>SAT 75th Percentile Critical Writing</th>\n",
       "      <th>SAT Average Overall</th>\n",
       "      <th>School ID</th>\n",
       "      <th>School Name</th>\n",
       "      <th>School Ownership</th>\n",
       "      <th>School State</th>\n",
       "      <th>Std. Deviation Earning (10 Yrs after Entry)</th>\n",
       "      <th>Std. Deviation Earning (6 Yrs after Entry)</th>\n",
       "      <th>Student Enrollment All</th>\n",
       "      <th>Student Enrollment Size</th>\n",
       "    </tr>\n",
       "  </thead>\n",
       "  <tbody>\n",
       "    <tr>\n",
       "      <th>0</th>\n",
       "      <td>30.00</td>\n",
       "      <td>nan</td>\n",
       "      <td>6896.00</td>\n",
       "      <td>59.25</td>\n",
       "      <td>7.82</td>\n",
       "      <td>1854.00</td>\n",
       "      <td>2383.00</td>\n",
       "      <td>3049.00</td>\n",
       "      <td>7701.00</td>\n",
       "      <td>40.75</td>\n",
       "      <td>...</td>\n",
       "      <td>nan</td>\n",
       "      <td>nan</td>\n",
       "      <td>449038</td>\n",
       "      <td>Strayer University-Florida</td>\n",
       "      <td>Private ForProfit</td>\n",
       "      <td>FL</td>\n",
       "      <td>39800.00</td>\n",
       "      <td>29300.00</td>\n",
       "      <td>nan</td>\n",
       "      <td>1698.00</td>\n",
       "    </tr>\n",
       "    <tr>\n",
       "      <th>1</th>\n",
       "      <td>nan</td>\n",
       "      <td>nan</td>\n",
       "      <td>7980.00</td>\n",
       "      <td>70.33</td>\n",
       "      <td>nan</td>\n",
       "      <td>1854.00</td>\n",
       "      <td>2383.00</td>\n",
       "      <td>3049.00</td>\n",
       "      <td>7701.00</td>\n",
       "      <td>29.67</td>\n",
       "      <td>...</td>\n",
       "      <td>nan</td>\n",
       "      <td>nan</td>\n",
       "      <td>450298</td>\n",
       "      <td>Strayer University-Delaware</td>\n",
       "      <td>Private ForProfit</td>\n",
       "      <td>DE</td>\n",
       "      <td>39800.00</td>\n",
       "      <td>29300.00</td>\n",
       "      <td>nan</td>\n",
       "      <td>246.00</td>\n",
       "    </tr>\n",
       "    <tr>\n",
       "      <th>2</th>\n",
       "      <td>58.33</td>\n",
       "      <td>98.39</td>\n",
       "      <td>3750.00</td>\n",
       "      <td>59.04</td>\n",
       "      <td>28.57</td>\n",
       "      <td>nan</td>\n",
       "      <td>nan</td>\n",
       "      <td>nan</td>\n",
       "      <td>nan</td>\n",
       "      <td>40.96</td>\n",
       "      <td>...</td>\n",
       "      <td>nan</td>\n",
       "      <td>nan</td>\n",
       "      <td>182917</td>\n",
       "      <td>Northeast Catholic College</td>\n",
       "      <td>Private NonProfit</td>\n",
       "      <td>NH</td>\n",
       "      <td>nan</td>\n",
       "      <td>nan</td>\n",
       "      <td>nan</td>\n",
       "      <td>83.00</td>\n",
       "    </tr>\n",
       "    <tr>\n",
       "      <th>3</th>\n",
       "      <td>32.56</td>\n",
       "      <td>68.17</td>\n",
       "      <td>8807.00</td>\n",
       "      <td>68.32</td>\n",
       "      <td>100.00</td>\n",
       "      <td>2937.00</td>\n",
       "      <td>3234.00</td>\n",
       "      <td>2499.00</td>\n",
       "      <td>2961.00</td>\n",
       "      <td>31.68</td>\n",
       "      <td>...</td>\n",
       "      <td>nan</td>\n",
       "      <td>917.00</td>\n",
       "      <td>484905</td>\n",
       "      <td>University of North Texas at Dallas</td>\n",
       "      <td>Public</td>\n",
       "      <td>TX</td>\n",
       "      <td>35100.00</td>\n",
       "      <td>25800.00</td>\n",
       "      <td>nan</td>\n",
       "      <td>2257.00</td>\n",
       "    </tr>\n",
       "    <tr>\n",
       "      <th>4</th>\n",
       "      <td>nan</td>\n",
       "      <td>100.00</td>\n",
       "      <td>6857.00</td>\n",
       "      <td>86.60</td>\n",
       "      <td>20.31</td>\n",
       "      <td>nan</td>\n",
       "      <td>566.00</td>\n",
       "      <td>41.00</td>\n",
       "      <td>586.00</td>\n",
       "      <td>13.40</td>\n",
       "      <td>...</td>\n",
       "      <td>nan</td>\n",
       "      <td>nan</td>\n",
       "      <td>485272</td>\n",
       "      <td>West Coast University-Miami</td>\n",
       "      <td>Private ForProfit</td>\n",
       "      <td>FL</td>\n",
       "      <td>42100.00</td>\n",
       "      <td>35500.00</td>\n",
       "      <td>nan</td>\n",
       "      <td>485.00</td>\n",
       "    </tr>\n",
       "  </tbody>\n",
       "</table>\n",
       "<p>5 rows × 39 columns</p>\n",
       "</div>"
      ],
      "text/plain": [
       "   150% Completion Rate at 4Yr (%)  Admission Rate (%)  \\\n",
       "0                            30.00                 nan   \n",
       "1                              nan                 nan   \n",
       "2                            58.33               98.39   \n",
       "3                            32.56               68.17   \n",
       "4                              nan              100.00   \n",
       "\n",
       "   Faculty's average salary per month  Female Students (%)  \\\n",
       "0                             6896.00                59.25   \n",
       "1                             7980.00                70.33   \n",
       "2                             3750.00                59.04   \n",
       "3                             8807.00                68.32   \n",
       "4                             6857.00                86.60   \n",
       "\n",
       "   Full-time Faculty Rate (%)  High Income Students (10 Yrs after Entry)  \\\n",
       "0                        7.82                                    1854.00   \n",
       "1                         nan                                    1854.00   \n",
       "2                       28.57                                        nan   \n",
       "3                      100.00                                    2937.00   \n",
       "4                       20.31                                        nan   \n",
       "\n",
       "   High Income Students (6 Yrs after Entry)  \\\n",
       "0                                   2383.00   \n",
       "1                                   2383.00   \n",
       "2                                       nan   \n",
       "3                                   3234.00   \n",
       "4                                    566.00   \n",
       "\n",
       "   Low Income Students (10 Yrs after Entry)  \\\n",
       "0                                   3049.00   \n",
       "1                                   3049.00   \n",
       "2                                       nan   \n",
       "3                                   2499.00   \n",
       "4                                     41.00   \n",
       "\n",
       "   Low Income Students (6 Yrs after Entry)  Male Students (%)  \\\n",
       "0                                  7701.00              40.75   \n",
       "1                                  7701.00              29.67   \n",
       "2                                      nan              40.96   \n",
       "3                                  2961.00              31.68   \n",
       "4                                   586.00              13.40   \n",
       "\n",
       "            ...             SAT 75th Percentile Critical Writing  \\\n",
       "0           ...                                              nan   \n",
       "1           ...                                              nan   \n",
       "2           ...                                              nan   \n",
       "3           ...                                              nan   \n",
       "4           ...                                              nan   \n",
       "\n",
       "   SAT Average Overall  School ID                          School Name  \\\n",
       "0                  nan     449038           Strayer University-Florida   \n",
       "1                  nan     450298          Strayer University-Delaware   \n",
       "2                  nan     182917           Northeast Catholic College   \n",
       "3               917.00     484905  University of North Texas at Dallas   \n",
       "4                  nan     485272          West Coast University-Miami   \n",
       "\n",
       "    School Ownership  School State  \\\n",
       "0  Private ForProfit            FL   \n",
       "1  Private ForProfit            DE   \n",
       "2  Private NonProfit            NH   \n",
       "3             Public            TX   \n",
       "4  Private ForProfit            FL   \n",
       "\n",
       "   Std. Deviation Earning (10 Yrs after Entry)  \\\n",
       "0                                     39800.00   \n",
       "1                                     39800.00   \n",
       "2                                          nan   \n",
       "3                                     35100.00   \n",
       "4                                     42100.00   \n",
       "\n",
       "   Std. Deviation Earning (6 Yrs after Entry)  Student Enrollment All  \\\n",
       "0                                    29300.00                     nan   \n",
       "1                                    29300.00                     nan   \n",
       "2                                         nan                     nan   \n",
       "3                                    25800.00                     nan   \n",
       "4                                    35500.00                     nan   \n",
       "\n",
       "   Student Enrollment Size  \n",
       "0                  1698.00  \n",
       "1                   246.00  \n",
       "2                    83.00  \n",
       "3                  2257.00  \n",
       "4                   485.00  \n",
       "\n",
       "[5 rows x 39 columns]"
      ]
     },
     "execution_count": 10,
     "metadata": {},
     "output_type": "execute_result"
    }
   ],
   "source": [
    "school_df.head()"
   ]
  },
  {
   "cell_type": "code",
   "execution_count": 11,
   "metadata": {},
   "outputs": [],
   "source": [
    "# Saving Dataframe in CSV file\n",
    "school_df.to_csv(\"Schools_DF.csv\", index=False)"
   ]
  },
  {
   "cell_type": "code",
   "execution_count": 12,
   "metadata": {
    "scrolled": true
   },
   "outputs": [
    {
     "data": {
      "text/plain": [
       "150% Completion Rate at 4Yr (%)                           1884\n",
       "Admission Rate (%)                                        1643\n",
       "Faculty's average salary per month                        1993\n",
       "Female Students (%)                                       2047\n",
       "Full-time Faculty Rate (%)                                1914\n",
       "High Income Students (10 Yrs after Entry)                 1745\n",
       "High Income Students (6 Yrs after Entry)                  1755\n",
       "Low Income Students (10 Yrs after Entry)                  1792\n",
       "Low Income Students (6 Yrs after Entry)                   1810\n",
       "Male Students (%)                                         2047\n",
       "Mean Earnings (10 Yrs after Entry)                        1840\n",
       "Mean Earnings (6 Yrs after Entry)                         1862\n",
       "Mean Earnings High (10 Yrs after Entry)                   1649\n",
       "Mean Earnings High (6 Yrs after Entry)                    1666\n",
       "Mean Earnings Low (10 Yrs after Entry)                    1656\n",
       "Mean Earnings Low (6 Yrs after Entry)                     1678\n",
       "Mean Earnings Medium (10 Yrs after Entry)                 1608\n",
       "Mean Earnings Medium (6 Yrs after Entry)                  1609\n",
       "Mean Female Earnings (10 Yrs after Entry)                 1664\n",
       "Mean Female Earnings (6 Yrs after Entry)                  1689\n",
       "Mean Male Earnings (10 Yrs after Entry)                   1664\n",
       "Mean Male Earnings (6 Yrs after Entry)                    1689\n",
       "Medium Income Students (10 Yrs after Entry)               1751\n",
       "Medium Income Students (6 Yrs after Entry)                1766\n",
       "Percent of Students Earning >$25K (10 Yrs after Entry)    1818\n",
       "Percent of Students Earning >$25K (6 Yrs after Entry)     1838\n",
       "Retention Rate 4Yr (%)                                    1905\n",
       "SAT 75th Percentile Critical Math                         1185\n",
       "SAT 75th Percentile Critical Reading                      1183\n",
       "SAT 75th Percentile Critical Writing                       708\n",
       "SAT Average Overall                                       1248\n",
       "School ID                                                 2049\n",
       "School Name                                               2049\n",
       "School Ownership                                          2049\n",
       "School State                                              2049\n",
       "Std. Deviation Earning (10 Yrs after Entry)               1840\n",
       "Std. Deviation Earning (6 Yrs after Entry)                1862\n",
       "Student Enrollment All                                    1750\n",
       "Student Enrollment Size                                   2047\n",
       "dtype: int64"
      ]
     },
     "execution_count": 12,
     "metadata": {},
     "output_type": "execute_result"
    }
   ],
   "source": [
    "school_df.count()"
   ]
  },
  {
   "cell_type": "code",
   "execution_count": null,
   "metadata": {},
   "outputs": [],
   "source": []
  }
 ],
 "metadata": {
  "kernelspec": {
   "display_name": "Python 3",
   "language": "python",
   "name": "python3"
  },
  "language_info": {
   "codemirror_mode": {
    "name": "ipython",
    "version": 3
   },
   "file_extension": ".py",
   "mimetype": "text/x-python",
   "name": "python",
   "nbconvert_exporter": "python",
   "pygments_lexer": "ipython3",
   "version": "3.6.7"
  }
 },
 "nbformat": 4,
 "nbformat_minor": 2
}
